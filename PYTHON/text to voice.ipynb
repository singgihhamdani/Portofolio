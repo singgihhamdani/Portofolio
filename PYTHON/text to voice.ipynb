{
 "cells": [
  {
   "cell_type": "code",
   "execution_count": 2,
   "id": "0740d6a4",
   "metadata": {},
   "outputs": [
    {
     "name": "stdout",
     "output_type": "stream",
     "text": [
      "Collecting gTTS\n",
      "  Downloading gTTS-2.3.1-py3-none-any.whl (28 kB)\n",
      "Requirement already satisfied: requests<3,>=2.27 in e:\\anaconda\\lib\\site-packages (from gTTS) (2.27.1)\n",
      "Requirement already satisfied: click<8.2,>=7.1 in e:\\anaconda\\lib\\site-packages (from gTTS) (8.0.4)\n",
      "Requirement already satisfied: colorama in e:\\anaconda\\lib\\site-packages (from click<8.2,>=7.1->gTTS) (0.4.4)\n",
      "Requirement already satisfied: urllib3<1.27,>=1.21.1 in e:\\anaconda\\lib\\site-packages (from requests<3,>=2.27->gTTS) (1.26.9)\n",
      "Requirement already satisfied: certifi>=2017.4.17 in e:\\anaconda\\lib\\site-packages (from requests<3,>=2.27->gTTS) (2021.10.8)\n",
      "Requirement already satisfied: idna<4,>=2.5 in e:\\anaconda\\lib\\site-packages (from requests<3,>=2.27->gTTS) (3.3)\n",
      "Requirement already satisfied: charset-normalizer~=2.0.0 in e:\\anaconda\\lib\\site-packages (from requests<3,>=2.27->gTTS) (2.0.4)\n",
      "Installing collected packages: gTTS\n",
      "Successfully installed gTTS-2.3.1\n",
      "Note: you may need to restart the kernel to use updated packages.\n"
     ]
    }
   ],
   "source": [
    "pip install gTTS"
   ]
  },
  {
   "cell_type": "code",
   "execution_count": 10,
   "id": "a875f0ec",
   "metadata": {},
   "outputs": [
    {
     "name": "stdout",
     "output_type": "stream",
     "text": [
      "Audio berhasil dibuat\n"
     ]
    }
   ],
   "source": [
    "import gtts #memanggil library gtts\n",
    "from gtts import gTTS #menggunakan fungsi gTTS dari library gtts\n",
    "\n",
    "#membuat variabel yang menampung text yang akan diubah menjadi audio\n",
    "text=\"\"\"\n",
    "Bank DKI adalah sebuah bank yang berdiri pada tahun 1957 dan berkantor pusat di Jakarta, Indonesia. Bank ini merupakan bagian dari Grup Bank DKI yang terdiri dari Bank DKI, Bank DKI Syariah, Bank DKI Syariah Merdeka, dan Bank DKI Investasi. Bank DKI adalah bank swasta terbesar di Indonesia yang berkomitmen untuk memberikan layanan dan produk perbankan yang berkualitas tinggi dan inovatif. Bank ini menawarkan beragam produk dan layanan perbankan termasuk pinjaman, deposito, kartu kredit, layanan asuransi, dan layanan jasa keuangan lainnya. Bank DKI juga menawarkan beragam layanan digital termasuk aplikasi mobile banking dan internet banking. Bank DKI juga menyediakan berbagai solusi keuangan bagi nasabahnya termasuk layanan konsultasi keuangan, layanan perencanaan keuangan, dan layanan lainnya. Bank DKI bekerja sama dengan berbagai pihak untuk menawarkan berbagai layanan yang berkualitas dan terjangkau.\n",
    "\n",
    "\"\"\"\n",
    "\n",
    "#membuat objek tts\n",
    "tts=gTTS(text,lang=\"id\") \n",
    "\n",
    "#menyimpan file audio\n",
    "tts.save(\"materi.mp3\")\n",
    "\n",
    "#mengeluarkan pesan berhasil\n",
    "print(\"Audio berhasil dibuat\")"
   ]
  }
 ],
 "metadata": {
  "kernelspec": {
   "display_name": "Python 3 (ipykernel)",
   "language": "python",
   "name": "python3"
  },
  "language_info": {
   "codemirror_mode": {
    "name": "ipython",
    "version": 3
   },
   "file_extension": ".py",
   "mimetype": "text/x-python",
   "name": "python",
   "nbconvert_exporter": "python",
   "pygments_lexer": "ipython3",
   "version": "3.9.12"
  }
 },
 "nbformat": 4,
 "nbformat_minor": 5
}
