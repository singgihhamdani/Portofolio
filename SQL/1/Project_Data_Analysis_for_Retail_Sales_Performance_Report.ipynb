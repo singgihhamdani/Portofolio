{
  "nbformat": 4,
  "nbformat_minor": 0,
  "metadata": {
    "colab": {
      "provenance": [],
      "collapsed_sections": [
        "5PLS_Irsvp2s",
        "oBopLhJ4z2Zc",
        "4U-I1DoHxOWV"
      ]
    },
    "kernelspec": {
      "name": "python3",
      "display_name": "Python 3"
    },
    "language_info": {
      "name": "python"
    }
  },
  "cells": [
    {
      "cell_type": "markdown",
      "source": [
        "# **Project Data Analysis for Retail: Sales Performance Report**"
      ],
      "metadata": {
        "id": "dUkmWSFrUEMR"
      }
    },
    {
      "cell_type": "markdown",
      "source": [
        "## **Petunjuk Penyelesaian Project**"
      ],
      "metadata": {
        "id": "XB-AaCR7T7m6"
      }
    },
    {
      "cell_type": "markdown",
      "source": [
        "### **Dataset Brief**"
      ],
      "metadata": {
        "id": "utfvYRL5UWh4"
      }
    },
    {
      "cell_type": "markdown",
      "source": [
        "\n",
        "Dataset yang digunakan berisi transaksi dari tahun 2009 sampai dengan tahun 2012 dengan jumlah raw data sebanyak 5500, termasuk di dalamnya order status yang terbagi menjadi order finished, order returned dan order cancelled"
      ],
      "metadata": {
        "id": "QzT6KP3HUO8p"
      }
    },
    {
      "cell_type": "markdown",
      "source": [
        "\n",
        "Adapun dataset yang sudah diberikan dan akan digunakan pada project ini berisi data sebagai berikut."
      ],
      "metadata": {
        "id": "a1CxHUjVUmhP"
      }
    },
    {
      "cell_type": "code",
      "source": [
        "OrderID\n",
        "Order Status\n",
        "Customer\n",
        "Order Date\n",
        "Order Quantity\n",
        "Sales\n",
        "Discount %\n",
        "Discount\n",
        "Product Category\n",
        "Product Sub-Category"
      ],
      "metadata": {
        "id": "ggDjZ6yYUqiP"
      },
      "execution_count": null,
      "outputs": []
    },
    {
      "cell_type": "markdown",
      "source": [],
      "metadata": {
        "id": "u6XQ4ePPzCK_"
      }
    },
    {
      "cell_type": "markdown",
      "source": [
        "### **Petunjuk Penyelesaian Project**"
      ],
      "metadata": {
        "id": "z4XzwQBrUya-"
      }
    },
    {
      "cell_type": "markdown",
      "source": [
        "Untuk menyelesaikan project, maka kita akan mengetikkan code yang perlu disubmit untuk dicek jawabannya benar atau salah.\n",
        "\n",
        "Dari data yang sudah diberikan, dari pihak manajemen DQLab store ingin mengetahui:"
      ],
      "metadata": {
        "id": "UBI2nUeFU5FO"
      }
    },
    {
      "cell_type": "markdown",
      "source": [
        "Untuk menyelesaikan project, maka kita akan mengetikkan code yang perlu disubmit untuk dicek jawabannya benar atau salah.\n",
        "\n",
        "Dari data yang sudah diberikan, dari pihak manajemen DQLab store ingin mengetahui:\n",
        "\n",
        "1A. Overall perofrmance DQLab Store dari tahun 2009 - 2012 untuk jumlah order dan total sales order finished\n",
        "\n",
        "1B. Overall performance DQLab by subcategory product yang akan dibandingkan antara tahun 2011 dan tahun 2012\n",
        "\n",
        " \n",
        "\n",
        "2A. Efektifitas dan efisiensi promosi yang dilakukan selama ini, dengan menghitung burn rate dari promosi yang dilakukan overall berdasarkan tahun\n",
        "\n",
        "2B. Efektifitas dan efisiensi promosi yang dilakukan selama ini, dengan menghitung burn rate dari promosi yang dilakukan overall berdasarkan sub-category\n",
        "\n",
        " \n",
        "\n",
        "Setelah melihat hasil analisa di Sub Bab 1 dan 2, selanjutnya dilakukan analisa terhadap customer DQLab. Analisa dari sisi customer dengan menggunakan metrics:\n",
        "\n",
        "3A. Analisa terhadap customer setiap tahunnya\n",
        "\n",
        "3B. Analisa terhadap jumlah customer baru setiap tahunnya\n",
        "\n",
        "3C. Cohort untuk mengetahui angka retention customer tahun 2009"
      ],
      "metadata": {
        "id": "NeZMPjzE2l0k"
      }
    },
    {
      "cell_type": "markdown",
      "source": [
        "## **DQLab Store Overall Performance**"
      ],
      "metadata": {
        "id": "KuMcL1bAV9lC"
      }
    },
    {
      "cell_type": "markdown",
      "source": [
        "### **Overall Performance by Year**"
      ],
      "metadata": {
        "id": "DvhgbDrlVQUc"
      }
    },
    {
      "cell_type": "markdown",
      "source": [
        "Buatlah Query dengan menggunakan SQL untuk mendapatkan total penjualan (sales) dan jumlah order (number_of_order) dari tahun 2009 sampai 2012 (years). "
      ],
      "metadata": {
        "id": "APZSqoYTVTac"
      }
    },
    {
      "cell_type": "markdown",
      "source": [
        "Output yang harus dihasilkan adalah sebagai berikut."
      ],
      "metadata": {
        "id": "aWptvKPkVV1M"
      }
    },
    {
      "cell_type": "code",
      "source": [
        "+-------+------------+-----------------+\n",
        "| years | sales      | number_of_order |\n",
        "+-------+------------+-----------------+\n",
        "|  2009 | 4613872681 |            1244 |\n",
        "|  2010 | 4059100607 |            1248 |\n",
        "|  2011 | 4112036186 |            1178 |\n",
        "|  2012 | 4482983158 |            1254 |\n",
        "+-------+------------+-----------------+"
      ],
      "metadata": {
        "id": "vTIkIwsPVaWg"
      },
      "execution_count": null,
      "outputs": []
    },
    {
      "cell_type": "markdown",
      "source": [
        "Kode query SQL di atas berfungsi untuk mengambil data dari tabel dqlab_sales_store dan mengelompokkannya berdasarkan tahun (YEAR(order_date)) dari kolom order_date. Fungsi YEAR() digunakan untuk mengambil tahun dari tanggal dalam kolom order_date."
      ],
      "metadata": {
        "id": "wHXz3S5yWkTR"
      }
    },
    {
      "cell_type": "markdown",
      "source": [
        "Dengan WHERE order_status = 'Order Finished', hanya baris yang memenuhi kondisi status order bernilai \"Order Finished\" yang akan diambil. Kemudian data tersebut dikelompokkan (GROUP BY YEAR(order_date)) dan diurutkan dari tahun terkecil sampai terbesar (ORDER BY years)."
      ],
      "metadata": {
        "id": "HkdS3VD9WwYw"
      }
    },
    {
      "cell_type": "markdown",
      "source": [],
      "metadata": {
        "id": "ErAvvDiMWzhw"
      }
    },
    {
      "cell_type": "markdown",
      "source": [
        "Hasil dari query ini adalah tahun (years), total penjualan (sales), dan jumlah order (number_of_order) yang hanya menampilkan order dengan status \"Order Finished\". Jumlah order diambil dari jumlah kuantitas (order_quantity) dalam setiap kelompok tahun."
      ],
      "metadata": {
        "id": "Wk-Z0-6lW1l3"
      }
    },
    {
      "cell_type": "markdown",
      "source": [
        "Kolom hasil dari query akan terdiri dari:"
      ],
      "metadata": {
        "id": "r0h3sDURW3E5"
      }
    },
    {
      "cell_type": "markdown",
      "source": [
        "* years: Tahun dari tanggal order.\n",
        "* sales: Total penjualan dalam setiap kelompok tahun.\n",
        "* number_of_order: Jumlah order dalam setiap kelompok tahun.\n",
        "\n",
        "\n",
        "\n"
      ],
      "metadata": {
        "id": "SiZ0FCpuW6MH"
      }
    },
    {
      "cell_type": "markdown",
      "source": [
        "### **Overall Performance by Product Sub Category**"
      ],
      "metadata": {
        "id": "ubVUe__aVmXc"
      }
    },
    {
      "cell_type": "markdown",
      "source": [
        "Buatlah Query dengan menggunakan SQL untuk mendapatkan total penjualan (sales) berdasarkan sub category dari produk (product_sub_category) pada tahun 2011 dan 2012 saja (years), Output yang harus dihasilkan adalah sebagai berikut."
      ],
      "metadata": {
        "id": "kvBY9y17VrlD"
      }
    },
    {
      "cell_type": "code",
      "source": [
        "+-------+--------------------------------+-----------+\n",
        "| years | product_sub_category           | sales     |\n",
        "+-------+--------------------------------+-----------+\n",
        "|  2011 | Chairs & Chairmats             | 622962720 |\n",
        "|  2011 | Office Machines                | 545856280 |\n",
        "|  2011 | Tables                         | 505875008 |\n",
        "|  2011 | Copiers and Fax                | 404074080 |\n",
        "|  2011 | Telephones and Communication   | 392194658 |\n",
        "|  2011 | Binders and Binder Accessories | 298023200 |\n",
        "|  2011 | Storage & Organization         | 285991820 |\n",
        "|  2011 | Appliances                     | 272630020 |\n",
        "|  2011 | Computer Peripherals           | 232677960 |\n",
        "|  2011 | Bookcases                      | 169304620 |\n",
        "|  2011 | Office Furnishings             | 160471500 |\n",
        "|  2011 | Paper                          | 111080380 |\n",
        "|  2011 | Pens & Art Supplies            |  43093800 |\n",
        "|  2011 | Envelopes                      |  36463900 |\n",
        "|  2011 | Labels                         |  15607780 |\n",
        "|  2011 | Scissors, Rulers and Trimmers  |  12638340 |\n",
        "|  2011 | Rubber Bands                   |   3090120 |\n",
        "|  2012 | Office Machines                | 811427140 |\n",
        "|  2012 | Chairs & Chairmats             | 654168740 |\n",
        "|  2012 | Telephones and Communication   | 422287514 |\n",
        "|  2012 | Tables                         | 388993784 |\n",
        "|  2012 | Binders and Binder Accessories | 363879200 |\n",
        "|  2012 | Storage & Organization         | 356714140 |\n",
        "|  2012 | Computer Peripherals           | 308014340 |\n",
        "|  2012 | Copiers and Fax                | 292489800 |\n",
        "|  2012 | Appliances                     | 266131100 |\n",
        "|  2012 | Office Furnishings             | 178927480 |\n",
        "|  2012 | Bookcases                      | 159984680 |\n",
        "|  2012 | Paper                          | 126896160 |\n",
        "|  2012 | Envelopes                      |  58629280 |\n",
        "|  2012 | Pens & Art Supplies            |  43818480 |\n",
        "|  2012 | Scissors, Rulers and Trimmers  |  36776400 |\n",
        "|  2012 | Labels                         |  10007040 |\n",
        "|  2012 | Rubber Bands                   |   3837880 |\n",
        "+-------+--------------------------------+-----------+"
      ],
      "metadata": {
        "id": "b8sa7-9dVyQv"
      },
      "execution_count": null,
      "outputs": []
    },
    {
      "cell_type": "markdown",
      "source": [
        "**JAWABAN**"
      ],
      "metadata": {
        "id": "bhaajLvgY9zA"
      }
    },
    {
      "cell_type": "code",
      "source": [
        "SELECT \n",
        " YEAR(order_date) AS years, \n",
        " product_sub_category, \n",
        " SUM(sales) AS sales\n",
        "FROM dqlab_sales_store\n",
        "WHERE order_status = 'Order Finished'\n",
        " AND YEAR(order_date) > 2010\n",
        "GROUP BY years, product_sub_category\n",
        "ORDER BY years, sales DESC;"
      ],
      "metadata": {
        "id": "tsSjSmbDY7aT"
      },
      "execution_count": null,
      "outputs": []
    },
    {
      "cell_type": "markdown",
      "source": [
        "(sales) berdasarkan sub kategori produk (product_sub_category) dan tahun (years) pada tahun 2011 dan 2012. Berikut ini adalah penjelasan detail kode tersebut:"
      ],
      "metadata": {
        "id": "pz3JS7_cZA7_"
      }
    },
    {
      "cell_type": "markdown",
      "source": [
        "* SELECT: Ini adalah clause pada query SQL untuk menentukan kolom yang ingin diambil sebagai output.\n",
        "* YEAR(order_date) AS years: Fungsi YEAR() digunakan untuk mengambil tahun dari tanggal order_date dan menyimpan hasilnya dalam kolom baru years.\n",
        "* product_sub_category: Kolom yang menyimpan sub kategori produk.\n",
        "* SUM(sales) AS sales: Fungsi SUM() digunakan untuk menjumlahkan nilai dari kolom sales dan menyimpan hasilnya dalam kolom baru sales.\n",
        "* FROM dqlab_sales_store: Ini adalah clause pada query SQL untuk menentukan nama tabel dari mana data diambil.\n",
        "* WHERE YEAR(order_date) IN (2011, 2012): Clause WHERE digunakan untuk memfilter data yang diambil hanya untuk tahun 2011 dan 2012 saja.\n",
        "* GROUP BY YEAR(order_date), product_sub_category: Clause GROUP BY digunakan untuk mengelompokkan data berdasarkan tahun (years) dan sub kategori produk (product_sub_category).\n",
        "* ORDER BY YEAR(order_date): Clause ORDER BY digunakan untuk mengurutkan hasil data berdasarkan tahun (years) dari terkecil ke terbesar."
      ],
      "metadata": {
        "id": "1XhK8GH7ZddW"
      }
    },
    {
      "cell_type": "markdown",
      "source": [],
      "metadata": {
        "id": "WmZ_pbCWZ8mQ"
      }
    },
    {
      "cell_type": "markdown",
      "source": [
        "## **DQLab Store Promotion Effectiveness and Efficiency**"
      ],
      "metadata": {
        "id": "5PLS_Irsvp2s"
      }
    },
    {
      "cell_type": "markdown",
      "source": [
        "### **Promotion Effectiveness and Efficiency by Years**"
      ],
      "metadata": {
        "id": "oBopLhJ4z2Zc"
      }
    },
    {
      "cell_type": "markdown",
      "source": [
        "Pada bagian ini kita akan melakukan analisa terhadap efektifitas dan efisiensi dari promosi yang sudah dilakukan selama ini\n",
        "\n",
        "Efektifitas dan efisiensi dari promosi yang dilakukan akan dianalisa berdasarkan Burn Rate yaitu dengan membandigkan total value promosi yang dikeluarkan terhadap total sales yang diperoleh"
      ],
      "metadata": {
        "id": "lYWmYbgbvtJ7"
      }
    },
    {
      "cell_type": "markdown",
      "source": [
        "DQLab berharap bahwa burn rate tetap berada diangka maskimum 4.5%\n",
        "* Formula untuk burn rate : (total discount / total sales) * 100\n",
        "\n"
      ],
      "metadata": {
        "id": "hKMO2A5-vy8I"
      }
    },
    {
      "cell_type": "markdown",
      "source": [
        "Buatkan Derived Tables untuk menghitung total sales (sales) dan total discount (promotion_value) berdasarkan tahun(years) dan formulasikan persentase burn rate nya (burn_rate_percentage).\n",
        "\n",
        "Adapun output yang seharusnya dihasilkan adalah sebagai berikut."
      ],
      "metadata": {
        "id": "3OhLXH2Rv7Gv"
      }
    },
    {
      "cell_type": "code",
      "source": [
        "+-------+------------+-----------------+----------------------+\n",
        "| years | sales      | promotion_value | burn_rate_percentage |\n",
        "+-------+------------+-----------------+----------------------+\n",
        "| 2009  | 4613872681 |       214330327 |                 4.65 |\n",
        "| 2010  | 4059100607 |       197506939 |                 4.87 |\n",
        "| 2011  | 4112036186 |       214611556 |                 5.22 |\n",
        "| 2012  | 4482983158 |       225867642 |                 5.04 |\n",
        "+-------+------------+-----------------+----------------------+"
      ],
      "metadata": {
        "id": "B5_FPigWv-W_"
      },
      "execution_count": null,
      "outputs": []
    },
    {
      "cell_type": "markdown",
      "source": [
        "**JAWABAN**"
      ],
      "metadata": {
        "id": "uZv1Nt1owBgI"
      }
    },
    {
      "cell_type": "code",
      "source": [
        "SELECT \n",
        " YEAR(order_date) AS years, \n",
        " SUM(sales) as sales, \n",
        " SUM(discount_value) AS promotion_value,\n",
        " ROUND((SUM(discount_value)/SUM(sales))*100,2) AS burn_rate_percentage\n",
        "FROM \n",
        " dqlab_sales_store\n",
        "WHERE \n",
        " order_status = 'Order Finished'\n",
        "GROUP BY \n",
        " years\n",
        "ORDER BY \n",
        " years ASC;"
      ],
      "metadata": {
        "id": "NWGxLxpHxNSr"
      },
      "execution_count": null,
      "outputs": []
    },
    {
      "cell_type": "markdown",
      "source": [
        "### **Promotion Effectiveness and Efficiency by Product Sub Category**"
      ],
      "metadata": {
        "id": "4U-I1DoHxOWV"
      }
    },
    {
      "cell_type": "markdown",
      "source": [
        "\n",
        "Pada bagian ini kita akan melakukan analisa terhadap efektifitas dan efisiensi dari promosi yang sudah dilakukan selama ini seperti pada bagian sebelumnya. \n",
        "\n",
        "Akan tetapi, ada kolom yang harus ditambahkan, yaitu : product_sub_category dan product_category\n",
        "\n",
        "Adapun output yang seharusnya dihasilkan adalah sebagai berikut:\n"
      ],
      "metadata": {
        "id": "2dUWg-zkxYbq"
      }
    },
    {
      "cell_type": "code",
      "source": [
        "+-------+--------------------------------+------------------+-----------+-----------------+----------------------+\n",
        "| years | product_sub_category           | product_category | sales     | promotion_value | burn_rate_percentage |\n",
        "+-------+--------------------------------+------------------+-----------+-----------------+----------------------+\n",
        "|  2012 | Office Machines                | Technology       | 811427140 |        46616695 |                 5.75 |\n",
        "|  2012 | Chairs & Chairmats             | Furniture        | 654168740 |        26623882 |                 4.07 |\n",
        "|  2012 | Telephones and Communication   | Technology       | 422287514 |        18800188 |                 4.45 |\n",
        "|  2012 | Tables                         | Furniture        | 388993784 |        16348689 |                  4.2 |\n",
        "|  2012 | Binders and Binder Accessories | Office Supplies  | 363879200 |        22338980 |                 6.14 |"
      ],
      "metadata": {
        "id": "CLmY-uhgxuxq"
      },
      "execution_count": null,
      "outputs": []
    },
    {
      "cell_type": "markdown",
      "source": [
        "**JAWABAN**"
      ],
      "metadata": {
        "id": "dwz5ok1tx0Br"
      }
    },
    {
      "cell_type": "code",
      "source": [
        "SELECT \n",
        " YEAR(order_date) as years, \n",
        " product_sub_category, \n",
        " product_category, \n",
        " SUM(sales) AS sales, \n",
        " SUM(discount_value) AS promotion_value, \n",
        " ROUND((SUM(discount_value)/SUM(sales))*100,2) AS burn_rate_percentage\n",
        "FROM dqlab_sales_store\n",
        "WHERE order_status = 'Order Finished'\n",
        " AND YEAR(order_date) = 2012\n",
        "GROUP BY \n",
        " years, \n",
        " product_sub_category, \n",
        " product_category\n",
        "ORDER by sales DESC;"
      ],
      "metadata": {
        "id": "f8bxWK3Jx9YI"
      },
      "execution_count": null,
      "outputs": []
    },
    {
      "cell_type": "markdown",
      "source": [
        "## **Customers Transactions per Year**"
      ],
      "metadata": {
        "id": "AJj1lmnGx-N_"
      }
    },
    {
      "cell_type": "markdown",
      "source": [
        "### **Customers Transactions per Year**"
      ],
      "metadata": {
        "id": "7P3-AZKC0k0h"
      }
    },
    {
      "cell_type": "markdown",
      "source": [
        "DQLab Store ingin mengetahui jumlah customer (number_of_customer) yang bertransaksi setiap tahun dari 2009 sampai 2012 (years).\n",
        "\n",
        "Adapun output yang seharusnya dihasilkan adalah sebagai berikut."
      ],
      "metadata": {
        "id": "cWNn85quyGP4"
      }
    },
    {
      "cell_type": "code",
      "source": [
        "+-------+--------------------+\n",
        "| years | number_of_customer |\n",
        "+-------+--------------------+\n",
        "| 2009  |                585 |\n",
        "| 2010  |                593 |\n",
        "| 2011  |                581 |\n",
        "| 2012  |                594 |\n",
        "+-------+--------------------+"
      ],
      "metadata": {
        "id": "B6_B8KSXySwY"
      },
      "execution_count": null,
      "outputs": []
    },
    {
      "cell_type": "code",
      "source": [
        "SELECT \n",
        " YEAR(order_date) AS years, \n",
        " COUNT(DISTINCT customer) AS number_of_customer\n",
        "FROM dqlab_sales_store\n",
        "WHERE order_status = 'Order Finished'\n",
        "GROUP BY years\n",
        "ORDER BY years;"
      ],
      "metadata": {
        "id": "YNDJrEycyVHY"
      },
      "execution_count": null,
      "outputs": []
    }
  ]
}